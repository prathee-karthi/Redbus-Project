{
 "cells": [
  {
   "cell_type": "code",
   "execution_count": 7,
   "metadata": {},
   "outputs": [],
   "source": [
    "#importing libraries\n",
    "import pandas as pd\n",
    "import mysql.connector\n",
    "import numpy as np"
   ]
  },
  {
   "cell_type": "code",
   "execution_count": 8,
   "metadata": {},
   "outputs": [
    {
     "data": {
      "text/html": [
       "<div>\n",
       "<style scoped>\n",
       "    .dataframe tbody tr th:only-of-type {\n",
       "        vertical-align: middle;\n",
       "    }\n",
       "\n",
       "    .dataframe tbody tr th {\n",
       "        vertical-align: top;\n",
       "    }\n",
       "\n",
       "    .dataframe thead th {\n",
       "        text-align: right;\n",
       "    }\n",
       "</style>\n",
       "<table border=\"1\" class=\"dataframe\">\n",
       "  <thead>\n",
       "    <tr style=\"text-align: right;\">\n",
       "      <th></th>\n",
       "      <th>Bus_name</th>\n",
       "      <th>Bus_type</th>\n",
       "      <th>Start_time</th>\n",
       "      <th>End_time</th>\n",
       "      <th>Total_duration</th>\n",
       "      <th>Price</th>\n",
       "      <th>Seats_Available</th>\n",
       "      <th>Ratings</th>\n",
       "      <th>Route_link</th>\n",
       "      <th>Route_name</th>\n",
       "    </tr>\n",
       "  </thead>\n",
       "  <tbody>\n",
       "    <tr>\n",
       "      <th>0</th>\n",
       "      <td>APSRTC - 4046</td>\n",
       "      <td>Super Luxury (Non AC Seater 2+2 Push Back)</td>\n",
       "      <td>21:00</td>\n",
       "      <td>03:40</td>\n",
       "      <td>06h 40m</td>\n",
       "      <td>INR 469</td>\n",
       "      <td>16 Seats available</td>\n",
       "      <td>4.4\\n56</td>\n",
       "      <td>https://www.redbus.in/bus-tickets/vijayawada-t...</td>\n",
       "      <td>Vijayawada to Hyderabad</td>\n",
       "    </tr>\n",
       "    <tr>\n",
       "      <th>1</th>\n",
       "      <td>APSRTC - 9651</td>\n",
       "      <td>Super Luxury (Non AC Seater 2+2 Push Back)</td>\n",
       "      <td>21:00</td>\n",
       "      <td>04:41</td>\n",
       "      <td>07h 41m</td>\n",
       "      <td>INR 469</td>\n",
       "      <td>23 Seats available</td>\n",
       "      <td>4.0\\n9</td>\n",
       "      <td>https://www.redbus.in/bus-tickets/vijayawada-t...</td>\n",
       "      <td>Vijayawada to Hyderabad</td>\n",
       "    </tr>\n",
       "    <tr>\n",
       "      <th>2</th>\n",
       "      <td>APSRTC - 9654</td>\n",
       "      <td>Super Luxury (Non AC Seater 2+2 Push Back)</td>\n",
       "      <td>21:40</td>\n",
       "      <td>05:20</td>\n",
       "      <td>07h 40m</td>\n",
       "      <td>INR 469</td>\n",
       "      <td>31 Seats available</td>\n",
       "      <td>3.0\\n18</td>\n",
       "      <td>https://www.redbus.in/bus-tickets/vijayawada-t...</td>\n",
       "      <td>Vijayawada to Hyderabad</td>\n",
       "    </tr>\n",
       "    <tr>\n",
       "      <th>3</th>\n",
       "      <td>APSRTC - 3916</td>\n",
       "      <td>Super Luxury (Non AC Seater 2+2 Push Back)</td>\n",
       "      <td>21:45</td>\n",
       "      <td>02:50</td>\n",
       "      <td>05h 05m</td>\n",
       "      <td>INR 469</td>\n",
       "      <td>8 Seats available</td>\n",
       "      <td>4.1\\n74</td>\n",
       "      <td>https://www.redbus.in/bus-tickets/vijayawada-t...</td>\n",
       "      <td>Vijayawada to Hyderabad</td>\n",
       "    </tr>\n",
       "    <tr>\n",
       "      <th>4</th>\n",
       "      <td>APSRTC - 35179</td>\n",
       "      <td>VENNELA (A.C. SLEEPER)</td>\n",
       "      <td>21:45</td>\n",
       "      <td>02:20</td>\n",
       "      <td>04h 35m</td>\n",
       "      <td>INR 781</td>\n",
       "      <td>16 Seats available</td>\n",
       "      <td>4.6\\n23</td>\n",
       "      <td>https://www.redbus.in/bus-tickets/vijayawada-t...</td>\n",
       "      <td>Vijayawada to Hyderabad</td>\n",
       "    </tr>\n",
       "    <tr>\n",
       "      <th>...</th>\n",
       "      <td>...</td>\n",
       "      <td>...</td>\n",
       "      <td>...</td>\n",
       "      <td>...</td>\n",
       "      <td>...</td>\n",
       "      <td>...</td>\n",
       "      <td>...</td>\n",
       "      <td>...</td>\n",
       "      <td>...</td>\n",
       "      <td>...</td>\n",
       "    </tr>\n",
       "    <tr>\n",
       "      <th>2418</th>\n",
       "      <td>SBSTC-SILIGURI - ASANSOL - 2/2 - VIA - MALDA -...</td>\n",
       "      <td>Non AC Seater (2+2)</td>\n",
       "      <td>16:00</td>\n",
       "      <td>00:00</td>\n",
       "      <td>08h 00m</td>\n",
       "      <td>INR 225</td>\n",
       "      <td>32 Seats available</td>\n",
       "      <td>3.5\\n14</td>\n",
       "      <td>https://www.redbus.in/bus-tickets/siliguri-to-...</td>\n",
       "      <td>Siliguri to Malda</td>\n",
       "    </tr>\n",
       "    <tr>\n",
       "      <th>2419</th>\n",
       "      <td>Shyamoli Paribahan Pvt Ltd</td>\n",
       "      <td>Scania Multi-Axle AC Semi Sleeper (2+2)</td>\n",
       "      <td>18:20</td>\n",
       "      <td>23:20</td>\n",
       "      <td>05h 00m</td>\n",
       "      <td>INR 500</td>\n",
       "      <td>47 Seats available</td>\n",
       "      <td>3.8\\n39</td>\n",
       "      <td>https://www.redbus.in/bus-tickets/siliguri-to-...</td>\n",
       "      <td>Siliguri to Malda</td>\n",
       "    </tr>\n",
       "    <tr>\n",
       "      <th>2420</th>\n",
       "      <td>Lokenath Bus Service</td>\n",
       "      <td>Volvo Multi-Axle A/C Seater/Sleeper (2+1)</td>\n",
       "      <td>18:45</td>\n",
       "      <td>23:55</td>\n",
       "      <td>05h 10m</td>\n",
       "      <td>INR 649</td>\n",
       "      <td>45 Seats available</td>\n",
       "      <td>4.7\\n13</td>\n",
       "      <td>https://www.redbus.in/bus-tickets/siliguri-to-...</td>\n",
       "      <td>Siliguri to Malda</td>\n",
       "    </tr>\n",
       "    <tr>\n",
       "      <th>2421</th>\n",
       "      <td>Shyamoli Paribahan Pvt Ltd</td>\n",
       "      <td>NaN</td>\n",
       "      <td>19:30</td>\n",
       "      <td>00:40</td>\n",
       "      <td>05h 10m</td>\n",
       "      <td>NaN</td>\n",
       "      <td>NaN</td>\n",
       "      <td>4.7</td>\n",
       "      <td>https://www.redbus.in/bus-tickets/siliguri-to-...</td>\n",
       "      <td>Siliguri to Malda</td>\n",
       "    </tr>\n",
       "    <tr>\n",
       "      <th>2422</th>\n",
       "      <td>WBTC (CTC) KOLKATA - ASANSOL - PURULIA (AC VOL...</td>\n",
       "      <td>Volvo AC Seater (2+2)</td>\n",
       "      <td>05:45</td>\n",
       "      <td>08:55</td>\n",
       "      <td>03h 10m</td>\n",
       "      <td>INR 240</td>\n",
       "      <td>31 Seats available</td>\n",
       "      <td>3.8\\n85</td>\n",
       "      <td>https://www.redbus.in/bus-tickets/purulia-to-d...</td>\n",
       "      <td>Purulia to Durgapur (West Bengal)</td>\n",
       "    </tr>\n",
       "  </tbody>\n",
       "</table>\n",
       "<p>2423 rows × 10 columns</p>\n",
       "</div>"
      ],
      "text/plain": [
       "                                               Bus_name  \\\n",
       "0                                         APSRTC - 4046   \n",
       "1                                         APSRTC - 9651   \n",
       "2                                         APSRTC - 9654   \n",
       "3                                         APSRTC - 3916   \n",
       "4                                        APSRTC - 35179   \n",
       "...                                                 ...   \n",
       "2418  SBSTC-SILIGURI - ASANSOL - 2/2 - VIA - MALDA -...   \n",
       "2419                         Shyamoli Paribahan Pvt Ltd   \n",
       "2420                               Lokenath Bus Service   \n",
       "2421                         Shyamoli Paribahan Pvt Ltd   \n",
       "2422  WBTC (CTC) KOLKATA - ASANSOL - PURULIA (AC VOL...   \n",
       "\n",
       "                                        Bus_type Start_time End_time  \\\n",
       "0     Super Luxury (Non AC Seater 2+2 Push Back)      21:00    03:40   \n",
       "1     Super Luxury (Non AC Seater 2+2 Push Back)      21:00    04:41   \n",
       "2     Super Luxury (Non AC Seater 2+2 Push Back)      21:40    05:20   \n",
       "3     Super Luxury (Non AC Seater 2+2 Push Back)      21:45    02:50   \n",
       "4                         VENNELA (A.C. SLEEPER)      21:45    02:20   \n",
       "...                                          ...        ...      ...   \n",
       "2418                         Non AC Seater (2+2)      16:00    00:00   \n",
       "2419     Scania Multi-Axle AC Semi Sleeper (2+2)      18:20    23:20   \n",
       "2420   Volvo Multi-Axle A/C Seater/Sleeper (2+1)      18:45    23:55   \n",
       "2421                                         NaN      19:30    00:40   \n",
       "2422                       Volvo AC Seater (2+2)      05:45    08:55   \n",
       "\n",
       "     Total_duration    Price     Seats_Available  Ratings  \\\n",
       "0           06h 40m  INR 469  16 Seats available  4.4\\n56   \n",
       "1           07h 41m  INR 469  23 Seats available   4.0\\n9   \n",
       "2           07h 40m  INR 469  31 Seats available  3.0\\n18   \n",
       "3           05h 05m  INR 469   8 Seats available  4.1\\n74   \n",
       "4           04h 35m  INR 781  16 Seats available  4.6\\n23   \n",
       "...             ...      ...                 ...      ...   \n",
       "2418        08h 00m  INR 225  32 Seats available  3.5\\n14   \n",
       "2419        05h 00m  INR 500  47 Seats available  3.8\\n39   \n",
       "2420        05h 10m  INR 649  45 Seats available  4.7\\n13   \n",
       "2421        05h 10m      NaN                 NaN      4.7   \n",
       "2422        03h 10m  INR 240  31 Seats available  3.8\\n85   \n",
       "\n",
       "                                             Route_link  \\\n",
       "0     https://www.redbus.in/bus-tickets/vijayawada-t...   \n",
       "1     https://www.redbus.in/bus-tickets/vijayawada-t...   \n",
       "2     https://www.redbus.in/bus-tickets/vijayawada-t...   \n",
       "3     https://www.redbus.in/bus-tickets/vijayawada-t...   \n",
       "4     https://www.redbus.in/bus-tickets/vijayawada-t...   \n",
       "...                                                 ...   \n",
       "2418  https://www.redbus.in/bus-tickets/siliguri-to-...   \n",
       "2419  https://www.redbus.in/bus-tickets/siliguri-to-...   \n",
       "2420  https://www.redbus.in/bus-tickets/siliguri-to-...   \n",
       "2421  https://www.redbus.in/bus-tickets/siliguri-to-...   \n",
       "2422  https://www.redbus.in/bus-tickets/purulia-to-d...   \n",
       "\n",
       "                             Route_name  \n",
       "0               Vijayawada to Hyderabad  \n",
       "1               Vijayawada to Hyderabad  \n",
       "2               Vijayawada to Hyderabad  \n",
       "3               Vijayawada to Hyderabad  \n",
       "4               Vijayawada to Hyderabad  \n",
       "...                                 ...  \n",
       "2418                  Siliguri to Malda  \n",
       "2419                  Siliguri to Malda  \n",
       "2420                  Siliguri to Malda  \n",
       "2421                  Siliguri to Malda  \n",
       "2422  Purulia to Durgapur (West Bengal)  \n",
       "\n",
       "[2423 rows x 10 columns]"
      ]
     },
     "execution_count": 8,
     "metadata": {},
     "output_type": "execute_result"
    }
   ],
   "source": [
    "# csv to dataframe\n",
    "df_bus1=pd.read_csv(\"df_bus1.csv\")\n",
    "df_bus2=pd.read_csv(\"df_bus2.csv\")\n",
    "df_bus3=pd.read_csv(\"df_bus3.csv\")\n",
    "df_bus4=pd.read_csv(\"df_bus4.csv\")\n",
    "df_bus5=pd.read_csv(\"df_bus5.csv\")\n",
    "df_bus6=pd.read_csv(\"df_bus6.csv\")\n",
    "df_bus7=pd.read_csv(\"df_bus7.csv\")\n",
    "df_bus8=pd.read_csv(\"df_bus8.csv\")\n",
    "df_bus9=pd.read_csv(\"df_bus9.csv\")\n",
    "df_bus10=pd.read_csv(\"df_bus10.csv\")\n",
    "\n",
    "Final_df=pd.concat([df_bus1,df_bus2,df_bus3,df_bus4,df_bus5,df_bus6,\n",
    "                    df_bus7,df_bus8,df_bus9,df_bus10],ignore_index=True)\n",
    "Final_df"
   ]
  },
  {
   "cell_type": "markdown",
   "metadata": {},
   "source": [
    "# Data cleaning"
   ]
  },
  {
   "cell_type": "code",
   "execution_count": 9,
   "metadata": {},
   "outputs": [
    {
     "name": "stdout",
     "output_type": "stream",
     "text": [
      "<class 'pandas.core.frame.DataFrame'>\n",
      "RangeIndex: 2423 entries, 0 to 2422\n",
      "Data columns (total 10 columns):\n",
      " #   Column           Non-Null Count  Dtype \n",
      "---  ------           --------------  ----- \n",
      " 0   Bus_name         2325 non-null   object\n",
      " 1   Bus_type         2314 non-null   object\n",
      " 2   Start_time       2325 non-null   object\n",
      " 3   End_time         2325 non-null   object\n",
      " 4   Total_duration   2325 non-null   object\n",
      " 5   Price            2323 non-null   object\n",
      " 6   Seats_Available  2321 non-null   object\n",
      " 7   Ratings          2325 non-null   object\n",
      " 8   Route_link       2423 non-null   object\n",
      " 9   Route_name       2423 non-null   object\n",
      "dtypes: object(10)\n",
      "memory usage: 189.4+ KB\n"
     ]
    }
   ],
   "source": [
    "# data about the data\n",
    "Final_df.info()"
   ]
  },
  {
   "cell_type": "code",
   "execution_count": 10,
   "metadata": {},
   "outputs": [
    {
     "data": {
      "text/plain": [
       "0       469.0\n",
       "1       469.0\n",
       "2       469.0\n",
       "3       469.0\n",
       "4       781.0\n",
       "        ...  \n",
       "2418    225.0\n",
       "2419    500.0\n",
       "2420    649.0\n",
       "2421      0.0\n",
       "2422    240.0\n",
       "Name: Price, Length: 2423, dtype: float64"
      ]
     },
     "execution_count": 10,
     "metadata": {},
     "output_type": "execute_result"
    }
   ],
   "source": [
    "#convert prices to numeric\n",
    "Final_df[\"Price\"]=Final_df[\"Price\"].str.replace(\"INR\",\"\")\n",
    "Final_df[\"Price\"]=Final_df[\"Price\"].astype(float)\n",
    "Final_df[\"Price\"].fillna(0) \n"
   ]
  },
  {
   "cell_type": "code",
   "execution_count": 11,
   "metadata": {},
   "outputs": [
    {
     "name": "stderr",
     "output_type": "stream",
     "text": [
      "C:\\Users\\Prathee\\AppData\\Local\\Temp\\ipykernel_5804\\2577861265.py:6: FutureWarning: A value is trying to be set on a copy of a DataFrame or Series through chained assignment using an inplace method.\n",
      "The behavior will change in pandas 3.0. This inplace method will never work because the intermediate object on which we are setting values always behaves as a copy.\n",
      "\n",
      "For example, when doing 'df[col].method(value, inplace=True)', try using 'df.method({col: value}, inplace=True)' or df[col] = df[col].method(value) instead, to perform the operation inplace on the original object.\n",
      "\n",
      "\n",
      "  Final_df[\"Ratings\"].fillna(0,inplace=True)\n"
     ]
    }
   ],
   "source": [
    "#convert Ratings to numeric\n",
    "Final_df[\"Ratings\"]=Final_df[\"Ratings\"].str.replace(\"New\",\"\")\n",
    "Final_df[\"Ratings\"]=Final_df[\"Ratings\"].str.strip()\n",
    "Final_df[\"Ratings\"]=Final_df[\"Ratings\"].str.split().str[0]\n",
    "Final_df[\"Ratings\"] = pd.to_numeric(Final_df[\"Ratings\"], errors='coerce')\n",
    "Final_df[\"Ratings\"].fillna(0,inplace=True) \n"
   ]
  },
  {
   "cell_type": "code",
   "execution_count": 12,
   "metadata": {},
   "outputs": [
    {
     "name": "stdout",
     "output_type": "stream",
     "text": [
      "<class 'pandas.core.frame.DataFrame'>\n",
      "RangeIndex: 2423 entries, 0 to 2422\n",
      "Data columns (total 10 columns):\n",
      " #   Column           Non-Null Count  Dtype  \n",
      "---  ------           --------------  -----  \n",
      " 0   Bus_name         2325 non-null   object \n",
      " 1   Bus_type         2314 non-null   object \n",
      " 2   Start_time       2325 non-null   object \n",
      " 3   End_time         2325 non-null   object \n",
      " 4   Total_duration   2325 non-null   object \n",
      " 5   Price            2323 non-null   float64\n",
      " 6   Seats_Available  2321 non-null   object \n",
      " 7   Ratings          2423 non-null   float64\n",
      " 8   Route_link       2423 non-null   object \n",
      " 9   Route_name       2423 non-null   object \n",
      "dtypes: float64(2), object(8)\n",
      "memory usage: 189.4+ KB\n"
     ]
    }
   ],
   "source": [
    "# info after the data type change\n",
    "Final_df.info()"
   ]
  },
  {
   "cell_type": "code",
   "execution_count": 13,
   "metadata": {},
   "outputs": [],
   "source": [
    "Final_df = Final_df[Final_df[\"Price\"] <= 7000]"
   ]
  },
  {
   "cell_type": "code",
   "execution_count": 14,
   "metadata": {},
   "outputs": [],
   "source": [
    "# replacing the nan value\n",
    "Final_df = Final_df.replace({np.nan: None})"
   ]
  },
  {
   "cell_type": "code",
   "execution_count": 15,
   "metadata": {},
   "outputs": [],
   "source": [
    "# change dataframe to csv\n",
    "path=r\"C:/Users/Prathee/Desktop/redbus/Final_busdetails_df.csv\"\n",
    "Final_df.to_csv(path,index=False)"
   ]
  },
  {
   "cell_type": "code",
   "execution_count": 18,
   "metadata": {},
   "outputs": [
    {
     "data": {
      "text/plain": [
       "Bus_name           0\n",
       "Bus_type           9\n",
       "Start_time         0\n",
       "End_time           0\n",
       "Total_duration     0\n",
       "Price              0\n",
       "Seats_Available    2\n",
       "Ratings            0\n",
       "Route_link         0\n",
       "Route_name         0\n",
       "dtype: int64"
      ]
     },
     "execution_count": 18,
     "metadata": {},
     "output_type": "execute_result"
    }
   ],
   "source": [
    "Final_df.isnull().sum()"
   ]
  },
  {
   "cell_type": "code",
   "execution_count": 21,
   "metadata": {},
   "outputs": [],
   "source": [
    "Final_df = Final_df.dropna(subset = ['Bus_type'])"
   ]
  },
  {
   "cell_type": "code",
   "execution_count": 22,
   "metadata": {},
   "outputs": [
    {
     "name": "stderr",
     "output_type": "stream",
     "text": [
      "C:\\Users\\Prathee\\AppData\\Local\\Temp\\ipykernel_5804\\3424650471.py:1: FutureWarning: A value is trying to be set on a copy of a DataFrame or Series through chained assignment using an inplace method.\n",
      "The behavior will change in pandas 3.0. This inplace method will never work because the intermediate object on which we are setting values always behaves as a copy.\n",
      "\n",
      "For example, when doing 'df[col].method(value, inplace=True)', try using 'df.method({col: value}, inplace=True)' or df[col] = df[col].method(value) instead, to perform the operation inplace on the original object.\n",
      "\n",
      "\n",
      "  Final_df[\"Seats_Available\"].fillna(0, inplace = True )\n"
     ]
    }
   ],
   "source": [
    "Final_df[\"Seats_Available\"].fillna(0, inplace = True )"
   ]
  },
  {
   "cell_type": "code",
   "execution_count": 23,
   "metadata": {},
   "outputs": [
    {
     "data": {
      "text/plain": [
       "Bus_name           0\n",
       "Bus_type           0\n",
       "Start_time         0\n",
       "End_time           0\n",
       "Total_duration     0\n",
       "Price              0\n",
       "Seats_Available    0\n",
       "Ratings            0\n",
       "Route_link         0\n",
       "Route_name         0\n",
       "dtype: int64"
      ]
     },
     "execution_count": 23,
     "metadata": {},
     "output_type": "execute_result"
    }
   ],
   "source": [
    "Final_df.isnull().sum()"
   ]
  },
  {
   "cell_type": "markdown",
   "metadata": {},
   "source": [
    "# Create a mysql database"
   ]
  },
  {
   "cell_type": "code",
   "execution_count": 1,
   "metadata": {},
   "outputs": [],
   "source": [
    "import mysql.connector"
   ]
  },
  {
   "cell_type": "code",
   "execution_count": 2,
   "metadata": {},
   "outputs": [],
   "source": [
    "#sql connection\n",
    "conn=mysql.connector.connect(host=\"localhost\", user=\"root\", password=\"iyall\")\n",
    "my_cursor = conn.cursor()\n",
    "my_cursor.execute(\"CREATE DATABASE IF NOT EXISTS RED_BUS_DETAILS\")"
   ]
  },
  {
   "cell_type": "code",
   "execution_count": 4,
   "metadata": {},
   "outputs": [],
   "source": [
    "my_cursor.execute(\"USE RED_BUS_DETAILS\")"
   ]
  },
  {
   "cell_type": "code",
   "execution_count": 5,
   "metadata": {},
   "outputs": [
    {
     "name": "stdout",
     "output_type": "stream",
     "text": [
      "Table Created successfully\n"
     ]
    }
   ],
   "source": [
    "# Table Creation\n",
    "my_cursor.execute('''CREATE TABLE IF NOT EXISTS bus_details(\n",
    "                  ID INT AUTO_INCREMENT PRIMARY KEY,\n",
    "                  Bus_name VARCHAR(255) NOT NULL,\n",
    "                  Bus_type VARCHAR(255) NOT NULL,\n",
    "                  Start_time VARCHAR(255) NOT NULL,\n",
    "                  End_time VARCHAR(255) NOT NULL,\n",
    "                  Total_duration VARCHAR(255) NOT NULL,\n",
    "                  Price FLOAT NULL,\n",
    "                  Seats_Available VARCHAR(255) NOT NULL,\n",
    "                  Ratings Float NULL,\n",
    "                  Route_link VARCHAR(255) NULL,\n",
    "                  Route_name VARCHAR(255) NULL\n",
    "                  )''')\n",
    "print(\"Table Created successfully\")"
   ]
  },
  {
   "cell_type": "code",
   "execution_count": 24,
   "metadata": {},
   "outputs": [
    {
     "name": "stdout",
     "output_type": "stream",
     "text": [
      "Values inserted successfully\n"
     ]
    }
   ],
   "source": [
    "# SQL query to insert data into bus_details table\n",
    "insert_query = '''INSERT INTO bus_details(\n",
    "                    Bus_name,\n",
    "                    Bus_type,\n",
    "                    Start_time,\n",
    "                    End_time,\n",
    "                    Total_duration,\n",
    "                    Price,\n",
    "                    Seats_Available,\n",
    "                    Ratings,\n",
    "                    Route_link,\n",
    "                    Route_name)\n",
    "                  VALUES(%s, %s, %s, %s, %s, %s, %s, %s, %s, %s)'''\n",
    "data = Final_df.values.tolist()\n",
    "\n",
    "my_cursor.executemany(insert_query, data)\n",
    "\n",
    "conn.commit()\n",
    "\n",
    "print(\"Values inserted successfully\")\n"
   ]
  }
 ],
 "metadata": {
  "kernelspec": {
   "display_name": "Python 3",
   "language": "python",
   "name": "python3"
  },
  "language_info": {
   "codemirror_mode": {
    "name": "ipython",
    "version": 3
   },
   "file_extension": ".py",
   "mimetype": "text/x-python",
   "name": "python",
   "nbconvert_exporter": "python",
   "pygments_lexer": "ipython3",
   "version": "3.12.4"
  }
 },
 "nbformat": 4,
 "nbformat_minor": 2
}
